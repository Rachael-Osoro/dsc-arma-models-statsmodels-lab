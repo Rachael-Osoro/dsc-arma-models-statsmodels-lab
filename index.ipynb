{
 "cells": [
  {
   "cell_type": "markdown",
   "metadata": {},
   "source": [
    "# ARMA Models in StatsModels - Lab \n",
    "\n",
    "## Introduction\n",
    "\n",
    "In this lesson, you'll fit an ARMA model using `statsmodels` to a real-world dataset. \n",
    "\n",
    "\n",
    "## Objectives\n",
    "\n",
    "In this lab you will: \n",
    "\n",
    "- Decide the optimal parameters for an ARMA model by plotting ACF and PACF and interpreting them \n",
    "- Fit an ARMA model using StatsModels \n",
    "\n",
    "## Dataset\n",
    "\n",
    "Run the cell below to import the dataset containing the historical running times for the men's 400m in the Olympic games."
   ]
  },
  {
   "cell_type": "code",
   "execution_count": 1,
   "metadata": {},
   "outputs": [],
   "source": [
    "import pandas as pd\n",
    "import matplotlib.pyplot as plt\n",
    "import numpy as np\n",
    "import warnings\n",
    "from statsmodels.tools.sm_exceptions import ConvergenceWarning\n",
    "warnings.simplefilter('ignore', ConvergenceWarning)\n",
    "\n",
    "data = pd.read_csv('winning_400m.csv')\n",
    "data['year'] = pd.to_datetime(data['year'].astype(str))\n",
    "data.set_index('year', inplace=True)\n",
    "data.index = data.index.to_period(\"Y\")"
   ]
  },
  {
   "cell_type": "code",
   "execution_count": 4,
   "metadata": {
    "scrolled": true
   },
   "outputs": [
    {
     "name": "stdout",
     "output_type": "stream",
     "text": [
      "<class 'pandas.core.frame.DataFrame'>\n",
      "PeriodIndex: 22 entries, 1900 to 1996\n",
      "Freq: A-DEC\n",
      "Data columns (total 1 columns):\n",
      " #   Column         Non-Null Count  Dtype  \n",
      "---  ------         --------------  -----  \n",
      " 0   winning_times  22 non-null     float64\n",
      "dtypes: float64(1)\n",
      "memory usage: 352.0 bytes\n",
      "None\n"
     ]
    },
    {
     "data": {
      "text/html": [
       "<div>\n",
       "<style scoped>\n",
       "    .dataframe tbody tr th:only-of-type {\n",
       "        vertical-align: middle;\n",
       "    }\n",
       "\n",
       "    .dataframe tbody tr th {\n",
       "        vertical-align: top;\n",
       "    }\n",
       "\n",
       "    .dataframe thead th {\n",
       "        text-align: right;\n",
       "    }\n",
       "</style>\n",
       "<table border=\"1\" class=\"dataframe\">\n",
       "  <thead>\n",
       "    <tr style=\"text-align: right;\">\n",
       "      <th></th>\n",
       "      <th>winning_times</th>\n",
       "    </tr>\n",
       "    <tr>\n",
       "      <th>year</th>\n",
       "      <th></th>\n",
       "    </tr>\n",
       "  </thead>\n",
       "  <tbody>\n",
       "    <tr>\n",
       "      <th>1900</th>\n",
       "      <td>49.4</td>\n",
       "    </tr>\n",
       "    <tr>\n",
       "      <th>1904</th>\n",
       "      <td>49.2</td>\n",
       "    </tr>\n",
       "    <tr>\n",
       "      <th>1908</th>\n",
       "      <td>50.0</td>\n",
       "    </tr>\n",
       "    <tr>\n",
       "      <th>1912</th>\n",
       "      <td>48.2</td>\n",
       "    </tr>\n",
       "    <tr>\n",
       "      <th>1920</th>\n",
       "      <td>49.6</td>\n",
       "    </tr>\n",
       "    <tr>\n",
       "      <th>1924</th>\n",
       "      <td>47.6</td>\n",
       "    </tr>\n",
       "    <tr>\n",
       "      <th>1928</th>\n",
       "      <td>47.8</td>\n",
       "    </tr>\n",
       "    <tr>\n",
       "      <th>1932</th>\n",
       "      <td>46.2</td>\n",
       "    </tr>\n",
       "    <tr>\n",
       "      <th>1936</th>\n",
       "      <td>46.5</td>\n",
       "    </tr>\n",
       "    <tr>\n",
       "      <th>1948</th>\n",
       "      <td>46.2</td>\n",
       "    </tr>\n",
       "    <tr>\n",
       "      <th>1952</th>\n",
       "      <td>45.9</td>\n",
       "    </tr>\n",
       "    <tr>\n",
       "      <th>1956</th>\n",
       "      <td>46.7</td>\n",
       "    </tr>\n",
       "    <tr>\n",
       "      <th>1960</th>\n",
       "      <td>44.9</td>\n",
       "    </tr>\n",
       "    <tr>\n",
       "      <th>1964</th>\n",
       "      <td>45.1</td>\n",
       "    </tr>\n",
       "    <tr>\n",
       "      <th>1968</th>\n",
       "      <td>43.8</td>\n",
       "    </tr>\n",
       "    <tr>\n",
       "      <th>1972</th>\n",
       "      <td>44.7</td>\n",
       "    </tr>\n",
       "    <tr>\n",
       "      <th>1976</th>\n",
       "      <td>44.3</td>\n",
       "    </tr>\n",
       "    <tr>\n",
       "      <th>1980</th>\n",
       "      <td>44.6</td>\n",
       "    </tr>\n",
       "    <tr>\n",
       "      <th>1984</th>\n",
       "      <td>44.3</td>\n",
       "    </tr>\n",
       "    <tr>\n",
       "      <th>1988</th>\n",
       "      <td>43.9</td>\n",
       "    </tr>\n",
       "    <tr>\n",
       "      <th>1992</th>\n",
       "      <td>43.5</td>\n",
       "    </tr>\n",
       "    <tr>\n",
       "      <th>1996</th>\n",
       "      <td>43.5</td>\n",
       "    </tr>\n",
       "  </tbody>\n",
       "</table>\n",
       "</div>"
      ],
      "text/plain": [
       "      winning_times\n",
       "year               \n",
       "1900           49.4\n",
       "1904           49.2\n",
       "1908           50.0\n",
       "1912           48.2\n",
       "1920           49.6\n",
       "1924           47.6\n",
       "1928           47.8\n",
       "1932           46.2\n",
       "1936           46.5\n",
       "1948           46.2\n",
       "1952           45.9\n",
       "1956           46.7\n",
       "1960           44.9\n",
       "1964           45.1\n",
       "1968           43.8\n",
       "1972           44.7\n",
       "1976           44.3\n",
       "1980           44.6\n",
       "1984           44.3\n",
       "1988           43.9\n",
       "1992           43.5\n",
       "1996           43.5"
      ]
     },
     "execution_count": 4,
     "metadata": {},
     "output_type": "execute_result"
    }
   ],
   "source": [
    "# Preview the dataset\n",
    "print(data.info())\n",
    "data"
   ]
  },
  {
   "cell_type": "markdown",
   "metadata": {},
   "source": [
    "Plot this time series data. "
   ]
  },
  {
   "cell_type": "code",
   "execution_count": 12,
   "metadata": {},
   "outputs": [
    {
     "data": {
      "text/plain": [
       "<AxesSubplot:title={'center':\"Men's 400m Olympic Games 1900-1990\"}, xlabel='Year', ylabel='Winning Times'>"
      ]
     },
     "execution_count": 12,
     "metadata": {},
     "output_type": "execute_result"
    },
    {
     "data": {
      "image/png": "[encoded data removed]",
      "text/plain": [
       "<Figure size 720x576 with 1 Axes>"
      ]
     },
     "metadata": {
      "needs_background": "light"
     },
     "output_type": "display_data"
    }
   ],
   "source": [
    "# Plot the time series\n",
    "data.plot(figsize=(10,8), title=\"Men's 400m Olympic Games 1900-1990\", xlabel='Year', ylabel='Winning Times', fontsize=12)"
   ]
  },
  {
   "cell_type": "markdown",
   "metadata": {},
   "source": [
    "If you plotted the time series correctly, you should notice that it is not stationary. So, difference the data to get a stationary time series. Make sure to remove the missing values."
   ]
  },
  {
   "cell_type": "code",
   "execution_count": 13,
   "metadata": {},
   "outputs": [
    {
     "data": {
      "text/html": [
       "<div>\n",
       "<style scoped>\n",
       "    .dataframe tbody tr th:only-of-type {\n",
       "        vertical-align: middle;\n",
       "    }\n",
       "\n",
       "    .dataframe tbody tr th {\n",
       "        vertical-align: top;\n",
       "    }\n",
       "\n",
       "    .dataframe thead th {\n",
       "        text-align: right;\n",
       "    }\n",
       "</style>\n",
       "<table border=\"1\" class=\"dataframe\">\n",
       "  <thead>\n",
       "    <tr style=\"text-align: right;\">\n",
       "      <th></th>\n",
       "      <th>winning_times</th>\n",
       "    </tr>\n",
       "    <tr>\n",
       "      <th>year</th>\n",
       "      <th></th>\n",
       "    </tr>\n",
       "  </thead>\n",
       "  <tbody>\n",
       "    <tr>\n",
       "      <th>1904</th>\n",
       "      <td>-0.2</td>\n",
       "    </tr>\n",
       "    <tr>\n",
       "      <th>1908</th>\n",
       "      <td>0.8</td>\n",
       "    </tr>\n",
       "    <tr>\n",
       "      <th>1912</th>\n",
       "      <td>-1.8</td>\n",
       "    </tr>\n",
       "    <tr>\n",
       "      <th>1920</th>\n",
       "      <td>1.4</td>\n",
       "    </tr>\n",
       "    <tr>\n",
       "      <th>1924</th>\n",
       "      <td>-2.0</td>\n",
       "    </tr>\n",
       "    <tr>\n",
       "      <th>1928</th>\n",
       "      <td>0.2</td>\n",
       "    </tr>\n",
       "    <tr>\n",
       "      <th>1932</th>\n",
       "      <td>-1.6</td>\n",
       "    </tr>\n",
       "    <tr>\n",
       "      <th>1936</th>\n",
       "      <td>0.3</td>\n",
       "    </tr>\n",
       "    <tr>\n",
       "      <th>1948</th>\n",
       "      <td>-0.3</td>\n",
       "    </tr>\n",
       "    <tr>\n",
       "      <th>1952</th>\n",
       "      <td>-0.3</td>\n",
       "    </tr>\n",
       "    <tr>\n",
       "      <th>1956</th>\n",
       "      <td>0.8</td>\n",
       "    </tr>\n",
       "    <tr>\n",
       "      <th>1960</th>\n",
       "      <td>-1.8</td>\n",
       "    </tr>\n",
       "    <tr>\n",
       "      <th>1964</th>\n",
       "      <td>0.2</td>\n",
       "    </tr>\n",
       "    <tr>\n",
       "      <th>1968</th>\n",
       "      <td>-1.3</td>\n",
       "    </tr>\n",
       "    <tr>\n",
       "      <th>1972</th>\n",
       "      <td>0.9</td>\n",
       "    </tr>\n",
       "    <tr>\n",
       "      <th>1976</th>\n",
       "      <td>-0.4</td>\n",
       "    </tr>\n",
       "    <tr>\n",
       "      <th>1980</th>\n",
       "      <td>0.3</td>\n",
       "    </tr>\n",
       "    <tr>\n",
       "      <th>1984</th>\n",
       "      <td>-0.3</td>\n",
       "    </tr>\n",
       "    <tr>\n",
       "      <th>1988</th>\n",
       "      <td>-0.4</td>\n",
       "    </tr>\n",
       "    <tr>\n",
       "      <th>1992</th>\n",
       "      <td>-0.4</td>\n",
       "    </tr>\n",
       "    <tr>\n",
       "      <th>1996</th>\n",
       "      <td>0.0</td>\n",
       "    </tr>\n",
       "  </tbody>\n",
       "</table>\n",
       "</div>"
      ],
      "text/plain": [
       "      winning_times\n",
       "year               \n",
       "1904           -0.2\n",
       "1908            0.8\n",
       "1912           -1.8\n",
       "1920            1.4\n",
       "1924           -2.0\n",
       "1928            0.2\n",
       "1932           -1.6\n",
       "1936            0.3\n",
       "1948           -0.3\n",
       "1952           -0.3\n",
       "1956            0.8\n",
       "1960           -1.8\n",
       "1964            0.2\n",
       "1968           -1.3\n",
       "1972            0.9\n",
       "1976           -0.4\n",
       "1980            0.3\n",
       "1984           -0.3\n",
       "1988           -0.4\n",
       "1992           -0.4\n",
       "1996            0.0"
      ]
     },
     "execution_count": 13,
     "metadata": {},
     "output_type": "execute_result"
    }
   ],
   "source": [
    "# Difference the time series\n",
    "data_diff = data.diff().dropna()\n",
    "data_diff"
   ]
  },
  {
   "cell_type": "code",
   "execution_count": 32,
   "metadata": {},
   "outputs": [
    {
     "data": {
      "text/plain": [
       "(21, 1)"
      ]
     },
     "execution_count": 32,
     "metadata": {},
     "output_type": "execute_result"
    }
   ],
   "source": [
    "data_diff.shape"
   ]
  },
  {
   "cell_type": "code",
   "execution_count": 69,
   "metadata": {
    "scrolled": true
   },
   "outputs": [
    {
     "data": {
      "text/plain": [
       "<AxesSubplot:title={'center':\"Men's 400m Olympic Games 1900-1990 (Differenced)\"}, xlabel='Diferrenced Winnings'>"
      ]
     },
     "execution_count": 69,
     "metadata": {},
     "output_type": "execute_result"
    },
    {
     "data": {
      "image/png": "[encoded data removed]",
      "text/plain": [
       "<Figure size 720x576 with 1 Axes>"
      ]
     },
     "metadata": {
      "needs_background": "light"
     },
     "output_type": "display_data"
    }
   ],
   "source": [
    "data_diff.plot(figsize=(10,8), xlabel='Diferrenced Winnings', title=\"Men's 400m Olympic Games 1900-1990 (Differenced)\")"
   ]
  },
  {
   "cell_type": "code",
   "execution_count": 68,
   "metadata": {},
   "outputs": [
    {
     "data": {
      "text/plain": [
       "(0.12113600204810519,\n",
       " 0.9674748699553254,\n",
       " 7,\n",
       " 13,\n",
       " {'1%': -4.068853732362312,\n",
       "  '5%': -3.1271488757396453,\n",
       "  '10%': -2.7017297633136095},\n",
       " 16.77773800372567)"
      ]
     },
     "execution_count": 68,
     "metadata": {},
     "output_type": "execute_result"
    }
   ],
   "source": [
    "from statsmodels.tsa.stattools import adfuller\n",
    "results = adfuller(data_diff)\n",
    "results"
   ]
  },
  {
   "cell_type": "markdown",
   "metadata": {},
   "source": [
    "Use `statsmodels` to plot the ACF and PACF of this differenced time series. "
   ]
  },
  {
   "cell_type": "code",
   "execution_count": 110,
   "metadata": {},
   "outputs": [
    {
     "data": {
      "image/png": "[encoded data removed]",
      "text/plain": [
       "<Figure size 720x216 with 1 Axes>"
      ]
     },
     "metadata": {
      "needs_background": "light"
     },
     "output_type": "display_data"
    }
   ],
   "source": [
    "# import library\n",
    "from statsmodels.graphics.tsaplots import plot_pacf\n",
    "from statsmodels.graphics.tsaplots import plot_acf\n",
    "\n",
    "# Plot the ACF\n",
    "fig, ax = plt.subplots(figsize=(10,3))\n",
    "plot_acf(data_diff, ax=ax, lags=20);\n",
    "\n"
   ]
  },
  {
   "cell_type": "code",
   "execution_count": 61,
   "metadata": {
    "scrolled": true
   },
   "outputs": [
    {
     "data": {
      "image/png": "[encoded data removed]",
      "text/plain": [
       "<Figure size 720x216 with 1 Axes>"
      ]
     },
     "metadata": {
      "needs_background": "light"
     },
     "output_type": "display_data"
    }
   ],
   "source": [
    "# Plot the PACF\n",
    "fig, ax = plt.subplots(figsize=(10,3))\n",
    "plot_pacf(data_diff, ax=ax, lags=8);"
   ]
  },
  {
   "cell_type": "code",
   "execution_count": null,
   "metadata": {},
   "outputs": [],
   "source": [
    "Significant CORRELATION AT 1, 4, 7\n",
    "ARMA(1,1)"
   ]
  },
  {
   "cell_type": "code",
   "execution_count": 101,
   "metadata": {},
   "outputs": [
    {
     "data": {
      "text/plain": [
       "'\\nfrom ACF plot above MA(1) or ARMA(1,1) model would be the appropriate model\\n\\n'"
      ]
     },
     "execution_count": 101,
     "metadata": {},
     "output_type": "execute_result"
    }
   ],
   "source": [
    "\"\"\"\n",
    "from ACF plot above MA(1) or ARMA(1,1) model would be the appropriate model\n",
    "\n",
    "\"\"\""
   ]
  },
  {
   "cell_type": "markdown",
   "metadata": {},
   "source": [
    "Based on the ACF and PACF, fit an ARMA model with the right orders for AR and MA. Feel free to try different models and compare AIC and BIC values, as well as significance values for the parameter estimates. "
   ]
  },
  {
   "cell_type": "code",
   "execution_count": 73,
   "metadata": {},
   "outputs": [
    {
     "data": {
      "text/html": [
       "<table class=\"simpletable\">\n",
       "<caption>SARIMAX Results</caption>\n",
       "<tr>\n",
       "  <th>Dep. Variable:</th>     <td>winning_times</td>  <th>  No. Observations:  </th>   <td>21</td>   \n",
       "</tr>\n",
       "<tr>\n",
       "  <th>Model:</th>            <td>ARIMA(1, 0, 1)</td>  <th>  Log Likelihood     </th> <td>-19.958</td>\n",
       "</tr>\n",
       "<tr>\n",
       "  <th>Date:</th>            <td>Sat, 27 Aug 2022</td> <th>  AIC                </th> <td>47.916</td> \n",
       "</tr>\n",
       "<tr>\n",
       "  <th>Time:</th>                <td>14:07:30</td>     <th>  BIC                </th> <td>52.094</td> \n",
       "</tr>\n",
       "<tr>\n",
       "  <th>Sample:</th>             <td>12-31-1904</td>    <th>  HQIC               </th> <td>48.822</td> \n",
       "</tr>\n",
       "<tr>\n",
       "  <th></th>                   <td>- 12-31-1996</td>   <th>                     </th>    <td> </td>   \n",
       "</tr>\n",
       "<tr>\n",
       "  <th>Covariance Type:</th>        <td>opg</td>       <th>                     </th>    <td> </td>   \n",
       "</tr>\n",
       "</table>\n",
       "<table class=\"simpletable\">\n",
       "<tr>\n",
       "     <td></td>       <th>coef</th>     <th>std err</th>      <th>z</th>      <th>P>|z|</th>  <th>[0.025</th>    <th>0.975]</th>  \n",
       "</tr>\n",
       "<tr>\n",
       "  <th>const</th>  <td>   -0.2850</td> <td>    0.087</td> <td>   -3.266</td> <td> 0.001</td> <td>   -0.456</td> <td>   -0.114</td>\n",
       "</tr>\n",
       "<tr>\n",
       "  <th>ar.L1</th>  <td>   -0.7707</td> <td>    0.177</td> <td>   -4.350</td> <td> 0.000</td> <td>   -1.118</td> <td>   -0.423</td>\n",
       "</tr>\n",
       "<tr>\n",
       "  <th>ma.L1</th>  <td>    0.1172</td> <td>    0.285</td> <td>    0.412</td> <td> 0.680</td> <td>   -0.441</td> <td>    0.675</td>\n",
       "</tr>\n",
       "<tr>\n",
       "  <th>sigma2</th> <td>    0.3784</td> <td>    0.181</td> <td>    2.094</td> <td> 0.036</td> <td>    0.024</td> <td>    0.733</td>\n",
       "</tr>\n",
       "</table>\n",
       "<table class=\"simpletable\">\n",
       "<tr>\n",
       "  <th>Ljung-Box (L1) (Q):</th>     <td>0.02</td> <th>  Jarque-Bera (JB):  </th> <td>1.23</td>\n",
       "</tr>\n",
       "<tr>\n",
       "  <th>Prob(Q):</th>                <td>0.90</td> <th>  Prob(JB):          </th> <td>0.54</td>\n",
       "</tr>\n",
       "<tr>\n",
       "  <th>Heteroskedasticity (H):</th> <td>0.31</td> <th>  Skew:              </th> <td>0.23</td>\n",
       "</tr>\n",
       "<tr>\n",
       "  <th>Prob(H) (two-sided):</th>    <td>0.14</td> <th>  Kurtosis:          </th> <td>1.91</td>\n",
       "</tr>\n",
       "</table><br/><br/>Warnings:<br/>[1] Covariance matrix calculated using the outer product of gradients (complex-step)."
      ],
      "text/plain": [
       "<class 'statsmodels.iolib.summary.Summary'>\n",
       "\"\"\"\n",
       "                               SARIMAX Results                                \n",
       "==============================================================================\n",
       "Dep. Variable:          winning_times   No. Observations:                   21\n",
       "Model:                 ARIMA(1, 0, 1)   Log Likelihood                 -19.958\n",
       "Date:                Sat, 27 Aug 2022   AIC                             47.916\n",
       "Time:                        14:07:30   BIC                             52.094\n",
       "Sample:                    12-31-1904   HQIC                            48.822\n",
       "                         - 12-31-1996                                         \n",
       "Covariance Type:                  opg                                         \n",
       "==============================================================================\n",
       "                 coef    std err          z      P>|z|      [0.025      0.975]\n",
       "------------------------------------------------------------------------------\n",
       "const         -0.2850      0.087     -3.266      0.001      -0.456      -0.114\n",
       "ar.L1         -0.7707      0.177     -4.350      0.000      -1.118      -0.423\n",
       "ma.L1          0.1172      0.285      0.412      0.680      -0.441       0.675\n",
       "sigma2         0.3784      0.181      2.094      0.036       0.024       0.733\n",
       "===================================================================================\n",
       "Ljung-Box (L1) (Q):                   0.02   Jarque-Bera (JB):                 1.23\n",
       "Prob(Q):                              0.90   Prob(JB):                         0.54\n",
       "Heteroskedasticity (H):               0.31   Skew:                             0.23\n",
       "Prob(H) (two-sided):                  0.14   Kurtosis:                         1.91\n",
       "===================================================================================\n",
       "\n",
       "Warnings:\n",
       "[1] Covariance matrix calculated using the outer product of gradients (complex-step).\n",
       "\"\"\""
      ]
     },
     "execution_count": 73,
     "metadata": {},
     "output_type": "execute_result"
    }
   ],
   "source": [
    "# import ARIMA from statsmodels library\n",
    "from statsmodels.tsa.arima.model import ARIMA\n",
    "\n",
    "# Instantiate an ARIMA(p=1,d=0, q=1) model to the differenced data\n",
    "arma_1 = ARIMA(data_diff, order=(1,0,1))\n",
    "\n",
    "# Fit model to data\n",
    "first_arma = arma_1.fit()\n",
    "\n",
    "first_arma.summary()"
   ]
  },
  {
   "cell_type": "code",
   "execution_count": 74,
   "metadata": {
    "scrolled": true
   },
   "outputs": [
    {
     "data": {
      "text/plain": [
       "const    -0.285008\n",
       "ar.L1    -0.770748\n",
       "ma.L1     0.117216\n",
       "sigma2    0.378429\n",
       "dtype: float64"
      ]
     },
     "execution_count": 74,
     "metadata": {},
     "output_type": "execute_result"
    }
   ],
   "source": [
    "# Print out the estimate for the constant and for theta\n",
    "first_arma.params"
   ]
  },
  {
   "cell_type": "code",
   "execution_count": 114,
   "metadata": {
    "scrolled": false
   },
   "outputs": [
    {
     "data": {
      "text/html": [
       "<table class=\"simpletable\">\n",
       "<caption>SARIMAX Results</caption>\n",
       "<tr>\n",
       "  <th>Dep. Variable:</th>     <td>winning_times</td>  <th>  No. Observations:  </th>   <td>21</td>   \n",
       "</tr>\n",
       "<tr>\n",
       "  <th>Model:</th>            <td>ARIMA(4, 0, 1)</td>  <th>  Log Likelihood     </th> <td>-16.194</td>\n",
       "</tr>\n",
       "<tr>\n",
       "  <th>Date:</th>            <td>Sat, 27 Aug 2022</td> <th>  AIC                </th> <td>46.388</td> \n",
       "</tr>\n",
       "<tr>\n",
       "  <th>Time:</th>                <td>19:10:18</td>     <th>  BIC                </th> <td>53.700</td> \n",
       "</tr>\n",
       "<tr>\n",
       "  <th>Sample:</th>             <td>12-31-1904</td>    <th>  HQIC               </th> <td>47.975</td> \n",
       "</tr>\n",
       "<tr>\n",
       "  <th></th>                   <td>- 12-31-1996</td>   <th>                     </th>    <td> </td>   \n",
       "</tr>\n",
       "<tr>\n",
       "  <th>Covariance Type:</th>        <td>opg</td>       <th>                     </th>    <td> </td>   \n",
       "</tr>\n",
       "</table>\n",
       "<table class=\"simpletable\">\n",
       "<tr>\n",
       "     <td></td>       <th>coef</th>     <th>std err</th>      <th>z</th>      <th>P>|z|</th>  <th>[0.025</th>    <th>0.975]</th>  \n",
       "</tr>\n",
       "<tr>\n",
       "  <th>const</th>  <td>   -0.2915</td> <td>    0.066</td> <td>   -4.445</td> <td> 0.000</td> <td>   -0.420</td> <td>   -0.163</td>\n",
       "</tr>\n",
       "<tr>\n",
       "  <th>ar.L1</th>  <td>   -0.7879</td> <td>    0.515</td> <td>   -1.530</td> <td> 0.126</td> <td>   -1.797</td> <td>    0.222</td>\n",
       "</tr>\n",
       "<tr>\n",
       "  <th>ar.L2</th>  <td>    0.1405</td> <td>    0.491</td> <td>    0.286</td> <td> 0.775</td> <td>   -0.822</td> <td>    1.103</td>\n",
       "</tr>\n",
       "<tr>\n",
       "  <th>ar.L3</th>  <td>   -0.2630</td> <td>    0.426</td> <td>   -0.617</td> <td> 0.537</td> <td>   -1.099</td> <td>    0.573</td>\n",
       "</tr>\n",
       "<tr>\n",
       "  <th>ar.L4</th>  <td>   -0.5572</td> <td>    0.323</td> <td>   -1.723</td> <td> 0.085</td> <td>   -1.191</td> <td>    0.076</td>\n",
       "</tr>\n",
       "<tr>\n",
       "  <th>ma.L1</th>  <td>    0.2206</td> <td>    0.793</td> <td>    0.278</td> <td> 0.781</td> <td>   -1.333</td> <td>    1.774</td>\n",
       "</tr>\n",
       "<tr>\n",
       "  <th>sigma2</th> <td>    0.2418</td> <td>    0.113</td> <td>    2.131</td> <td> 0.033</td> <td>    0.019</td> <td>    0.464</td>\n",
       "</tr>\n",
       "</table>\n",
       "<table class=\"simpletable\">\n",
       "<tr>\n",
       "  <th>Ljung-Box (L1) (Q):</th>     <td>0.01</td> <th>  Jarque-Bera (JB):  </th> <td>0.78</td> \n",
       "</tr>\n",
       "<tr>\n",
       "  <th>Prob(Q):</th>                <td>0.94</td> <th>  Prob(JB):          </th> <td>0.68</td> \n",
       "</tr>\n",
       "<tr>\n",
       "  <th>Heteroskedasticity (H):</th> <td>0.33</td> <th>  Skew:              </th> <td>-0.35</td>\n",
       "</tr>\n",
       "<tr>\n",
       "  <th>Prob(H) (two-sided):</th>    <td>0.17</td> <th>  Kurtosis:          </th> <td>2.36</td> \n",
       "</tr>\n",
       "</table><br/><br/>Warnings:<br/>[1] Covariance matrix calculated using the outer product of gradients (complex-step)."
      ],
      "text/plain": [
       "<class 'statsmodels.iolib.summary.Summary'>\n",
       "\"\"\"\n",
       "                               SARIMAX Results                                \n",
       "==============================================================================\n",
       "Dep. Variable:          winning_times   No. Observations:                   21\n",
       "Model:                 ARIMA(4, 0, 1)   Log Likelihood                 -16.194\n",
       "Date:                Sat, 27 Aug 2022   AIC                             46.388\n",
       "Time:                        19:10:18   BIC                             53.700\n",
       "Sample:                    12-31-1904   HQIC                            47.975\n",
       "                         - 12-31-1996                                         \n",
       "Covariance Type:                  opg                                         \n",
       "==============================================================================\n",
       "                 coef    std err          z      P>|z|      [0.025      0.975]\n",
       "------------------------------------------------------------------------------\n",
       "const         -0.2915      0.066     -4.445      0.000      -0.420      -0.163\n",
       "ar.L1         -0.7879      0.515     -1.530      0.126      -1.797       0.222\n",
       "ar.L2          0.1405      0.491      0.286      0.775      -0.822       1.103\n",
       "ar.L3         -0.2630      0.426     -0.617      0.537      -1.099       0.573\n",
       "ar.L4         -0.5572      0.323     -1.723      0.085      -1.191       0.076\n",
       "ma.L1          0.2206      0.793      0.278      0.781      -1.333       1.774\n",
       "sigma2         0.2418      0.113      2.131      0.033       0.019       0.464\n",
       "===================================================================================\n",
       "Ljung-Box (L1) (Q):                   0.01   Jarque-Bera (JB):                 0.78\n",
       "Prob(Q):                              0.94   Prob(JB):                         0.68\n",
       "Heteroskedasticity (H):               0.33   Skew:                            -0.35\n",
       "Prob(H) (two-sided):                  0.17   Kurtosis:                         2.36\n",
       "===================================================================================\n",
       "\n",
       "Warnings:\n",
       "[1] Covariance matrix calculated using the outer product of gradients (complex-step).\n",
       "\"\"\""
      ]
     },
     "execution_count": 114,
     "metadata": {},
     "output_type": "execute_result"
    }
   ],
   "source": [
    "# Instantiate an ARMA(p=4,d=0, q=1) model to the differenced data\n",
    "arma_2 = ARIMA(data_diff, order=(4,0,1))\n",
    "\n",
    "# Fit model to data\n",
    "second_arma = arma_2.fit()\n",
    "\n",
    "second_arma.summary()"
   ]
  },
  {
   "cell_type": "code",
   "execution_count": 115,
   "metadata": {},
   "outputs": [
    {
     "data": {
      "text/plain": [
       "const    -0.291547\n",
       "ar.L1    -0.787949\n",
       "ar.L2     0.140451\n",
       "ar.L3    -0.263000\n",
       "ar.L4    -0.557228\n",
       "ma.L1     0.220578\n",
       "sigma2    0.241842\n",
       "dtype: float64"
      ]
     },
     "execution_count": 115,
     "metadata": {},
     "output_type": "execute_result"
    }
   ],
   "source": [
    "# Print out the estimate for the constant and for theta\n",
    "second_arma.params"
   ]
  },
  {
   "cell_type": "code",
   "execution_count": 116,
   "metadata": {
    "scrolled": true
   },
   "outputs": [
    {
     "data": {
      "text/html": [
       "<table class=\"simpletable\">\n",
       "<caption>SARIMAX Results</caption>\n",
       "<tr>\n",
       "  <th>Dep. Variable:</th>     <td>winning_times</td>  <th>  No. Observations:  </th>   <td>21</td>   \n",
       "</tr>\n",
       "<tr>\n",
       "  <th>Model:</th>            <td>ARIMA(1, 1, 1)</td>  <th>  Log Likelihood     </th> <td>-21.643</td>\n",
       "</tr>\n",
       "<tr>\n",
       "  <th>Date:</th>            <td>Sat, 27 Aug 2022</td> <th>  AIC                </th> <td>49.287</td> \n",
       "</tr>\n",
       "<tr>\n",
       "  <th>Time:</th>                <td>19:10:48</td>     <th>  BIC                </th> <td>52.274</td> \n",
       "</tr>\n",
       "<tr>\n",
       "  <th>Sample:</th>             <td>12-31-1904</td>    <th>  HQIC               </th> <td>49.870</td> \n",
       "</tr>\n",
       "<tr>\n",
       "  <th></th>                   <td>- 12-31-1996</td>   <th>                     </th>    <td> </td>   \n",
       "</tr>\n",
       "<tr>\n",
       "  <th>Covariance Type:</th>        <td>opg</td>       <th>                     </th>    <td> </td>   \n",
       "</tr>\n",
       "</table>\n",
       "<table class=\"simpletable\">\n",
       "<tr>\n",
       "     <td></td>       <th>coef</th>     <th>std err</th>      <th>z</th>      <th>P>|z|</th>  <th>[0.025</th>    <th>0.975]</th>  \n",
       "</tr>\n",
       "<tr>\n",
       "  <th>ar.L1</th>  <td>   -0.7061</td> <td>    0.154</td> <td>   -4.587</td> <td> 0.000</td> <td>   -1.008</td> <td>   -0.404</td>\n",
       "</tr>\n",
       "<tr>\n",
       "  <th>ma.L1</th>  <td>   -0.9983</td> <td>   22.970</td> <td>   -0.043</td> <td> 0.965</td> <td>  -46.019</td> <td>   44.022</td>\n",
       "</tr>\n",
       "<tr>\n",
       "  <th>sigma2</th> <td>    0.4026</td> <td>    9.201</td> <td>    0.044</td> <td> 0.965</td> <td>  -17.630</td> <td>   18.435</td>\n",
       "</tr>\n",
       "</table>\n",
       "<table class=\"simpletable\">\n",
       "<tr>\n",
       "  <th>Ljung-Box (L1) (Q):</th>     <td>0.21</td> <th>  Jarque-Bera (JB):  </th> <td>0.78</td> \n",
       "</tr>\n",
       "<tr>\n",
       "  <th>Prob(Q):</th>                <td>0.65</td> <th>  Prob(JB):          </th> <td>0.68</td> \n",
       "</tr>\n",
       "<tr>\n",
       "  <th>Heteroskedasticity (H):</th> <td>0.42</td> <th>  Skew:              </th> <td>-0.13</td>\n",
       "</tr>\n",
       "<tr>\n",
       "  <th>Prob(H) (two-sided):</th>    <td>0.27</td> <th>  Kurtosis:          </th> <td>2.07</td> \n",
       "</tr>\n",
       "</table><br/><br/>Warnings:<br/>[1] Covariance matrix calculated using the outer product of gradients (complex-step)."
      ],
      "text/plain": [
       "<class 'statsmodels.iolib.summary.Summary'>\n",
       "\"\"\"\n",
       "                               SARIMAX Results                                \n",
       "==============================================================================\n",
       "Dep. Variable:          winning_times   No. Observations:                   21\n",
       "Model:                 ARIMA(1, 1, 1)   Log Likelihood                 -21.643\n",
       "Date:                Sat, 27 Aug 2022   AIC                             49.287\n",
       "Time:                        19:10:48   BIC                             52.274\n",
       "Sample:                    12-31-1904   HQIC                            49.870\n",
       "                         - 12-31-1996                                         \n",
       "Covariance Type:                  opg                                         \n",
       "==============================================================================\n",
       "                 coef    std err          z      P>|z|      [0.025      0.975]\n",
       "------------------------------------------------------------------------------\n",
       "ar.L1         -0.7061      0.154     -4.587      0.000      -1.008      -0.404\n",
       "ma.L1         -0.9983     22.970     -0.043      0.965     -46.019      44.022\n",
       "sigma2         0.4026      9.201      0.044      0.965     -17.630      18.435\n",
       "===================================================================================\n",
       "Ljung-Box (L1) (Q):                   0.21   Jarque-Bera (JB):                 0.78\n",
       "Prob(Q):                              0.65   Prob(JB):                         0.68\n",
       "Heteroskedasticity (H):               0.42   Skew:                            -0.13\n",
       "Prob(H) (two-sided):                  0.27   Kurtosis:                         2.07\n",
       "===================================================================================\n",
       "\n",
       "Warnings:\n",
       "[1] Covariance matrix calculated using the outer product of gradients (complex-step).\n",
       "\"\"\""
      ]
     },
     "execution_count": 116,
     "metadata": {},
     "output_type": "execute_result"
    }
   ],
   "source": [
    "# Instantiate an ARIMA(p=1,d=1q=1) model to the differenced data\n",
    "arma_3 = ARIMA(data_diff, order=(1,1,1))\n",
    "\n",
    "# Fit model to data\n",
    "third_arma = arma_3.fit()\n",
    "\n",
    "third_arma.summary()"
   ]
  },
  {
   "cell_type": "code",
   "execution_count": 117,
   "metadata": {
    "scrolled": true
   },
   "outputs": [
    {
     "data": {
      "text/plain": [
       "ar.L1    -0.706074\n",
       "ma.L1    -0.998278\n",
       "sigma2    0.402551\n",
       "dtype: float64"
      ]
     },
     "execution_count": 117,
     "metadata": {},
     "output_type": "execute_result"
    }
   ],
   "source": [
    "third_arma.params"
   ]
  },
  {
   "cell_type": "code",
   "execution_count": 127,
   "metadata": {
    "scrolled": true
   },
   "outputs": [
    {
     "name": "stdout",
     "output_type": "stream",
     "text": [
      "                               SARIMAX Results                                \n",
      "==============================================================================\n",
      "Dep. Variable:          winning_times   No. Observations:                   21\n",
      "Model:               SARIMAX(1, 0, 1)   Log Likelihood                 -23.601\n",
      "Date:                Sat, 27 Aug 2022   AIC                             53.202\n",
      "Time:                        19:15:24   BIC                             56.335\n",
      "Sample:                    12-31-1904   HQIC                            53.882\n",
      "                         - 12-31-1996                                         \n",
      "Covariance Type:                  opg                                         \n",
      "==============================================================================\n",
      "                 coef    std err          z      P>|z|      [0.025      0.975]\n",
      "------------------------------------------------------------------------------\n",
      "ar.L1         -0.8072      0.181     -4.465      0.000      -1.162      -0.453\n",
      "ma.L1          0.3450      0.290      1.188      0.235      -0.224       0.914\n",
      "sigma2         0.5405      0.232      2.327      0.020       0.085       0.996\n",
      "===================================================================================\n",
      "Ljung-Box (L1) (Q):                   1.21   Jarque-Bera (JB):                 0.96\n",
      "Prob(Q):                              0.27   Prob(JB):                         0.62\n",
      "Heteroskedasticity (H):               0.14   Skew:                             0.11\n",
      "Prob(H) (two-sided):                  0.02   Kurtosis:                         1.97\n",
      "===================================================================================\n",
      "\n",
      "Warnings:\n",
      "[1] Covariance matrix calculated using the outer product of gradients (complex-step).\n",
      "--------------------------------------------------\n",
      "------------------------------------------------------\n",
      "SARIMAX parameters: \n",
      " ar.L1    -0.807216\n",
      "ma.L1     0.345034\n",
      "sigma2    0.540454\n",
      "dtype: float64\n"
     ]
    }
   ],
   "source": [
    "#import SARIMAX from statsmodels\n",
    "from statsmodels.tsa.statespace.sarimax import SARIMAX\n",
    "\n",
    "# Instantiate & fit model to differenced data\n",
    "sarimax_1 = SARIMAX(data_diff, order=(1,0,1)).fit()\n",
    "\n",
    "# summary\n",
    "print(sarimax_1.summary())\n",
    "print('-------------------------'*2)\n",
    "print('------------------------------------------------------')\n",
    "# parameters\n",
    "\n",
    "print(\"SARIMAX parameters: \" '\\n', sarimax_1.params)"
   ]
  },
  {
   "cell_type": "code",
   "execution_count": 128,
   "metadata": {},
   "outputs": [
    {
     "name": "stdout",
     "output_type": "stream",
     "text": [
      "                               SARIMAX Results                                \n",
      "==============================================================================\n",
      "Dep. Variable:          winning_times   No. Observations:                   21\n",
      "Model:               SARIMAX(4, 0, 1)   Log Likelihood                 -18.863\n",
      "Date:                Sat, 27 Aug 2022   AIC                             49.726\n",
      "Time:                        19:16:09   BIC                             55.993\n",
      "Sample:                    12-31-1904   HQIC                            51.086\n",
      "                         - 12-31-1996                                         \n",
      "Covariance Type:                  opg                                         \n",
      "==============================================================================\n",
      "                 coef    std err          z      P>|z|      [0.025      0.975]\n",
      "------------------------------------------------------------------------------\n",
      "ar.L1         -0.9507      0.326     -2.920      0.003      -1.589      -0.313\n",
      "ar.L2          0.4441      0.402      1.104      0.270      -0.345       1.233\n",
      "ar.L3          0.3577      0.659      0.543      0.587      -0.934       1.649\n",
      "ar.L4         -0.2586      0.452     -0.573      0.567      -1.143       0.626\n",
      "ma.L1          0.9999    576.720      0.002      0.999   -1129.351    1131.351\n",
      "sigma2         0.2786    160.685      0.002      0.999    -314.658     315.215\n",
      "===================================================================================\n",
      "Ljung-Box (L1) (Q):                   0.46   Jarque-Bera (JB):                 1.35\n",
      "Prob(Q):                              0.50   Prob(JB):                         0.51\n",
      "Heteroskedasticity (H):               0.34   Skew:                            -0.46\n",
      "Prob(H) (two-sided):                  0.18   Kurtosis:                         2.17\n",
      "===================================================================================\n",
      "\n",
      "Warnings:\n",
      "[1] Covariance matrix calculated using the outer product of gradients (complex-step).\n",
      "--------------------------------------------------\n",
      "------------------------------------------------------\n",
      "SARIMAX parameters: \n",
      " ar.L1    -0.950694\n",
      "ar.L2     0.444110\n",
      "ar.L3     0.357655\n",
      "ar.L4    -0.258562\n",
      "ma.L1     0.999913\n",
      "sigma2    0.278642\n",
      "dtype: float64\n"
     ]
    }
   ],
   "source": [
    "# Instantiate & fit model to differenced data\n",
    "sarimax_2 = SARIMAX(data_diff, order=(4,0,1)).fit()\n",
    "\n",
    "# summary\n",
    "print(sarimax_2.summary())\n",
    "print('-------------------------'*2)\n",
    "print('------------------------------------------------------')\n",
    "# parameters\n",
    "\n",
    "print(\"SARIMAX parameters: \" '\\n', sarimax_2.params)"
   ]
  },
  {
   "cell_type": "markdown",
   "metadata": {},
   "source": [
    "## What is your final model? Why did you pick this model?"
   ]
  },
  {
   "cell_type": "code",
   "execution_count": 99,
   "metadata": {},
   "outputs": [
    {
     "data": {
      "text/plain": [
       "'\\nFinal Model is ARIMA (1,0,1)\\nIt has the least AIC with the least parameters\\n'"
      ]
     },
     "execution_count": 99,
     "metadata": {},
     "output_type": "execute_result"
    }
   ],
   "source": [
    "# Your comments here\n",
    "\"\"\"\n",
    "Final Model is ARIMA (1,0,1)\n",
    "It has the least AIC with the least parameters\n",
    "\"\"\""
   ]
  },
  {
   "cell_type": "markdown",
   "metadata": {},
   "source": [
    "## Summary \n",
    "\n",
    "Well done. In addition to manipulating and visualizing time series data, you now know how to create a stationary time series and fit ARMA models. "
   ]
  }
 ],
 "metadata": {
  "kernelspec": {
   "display_name": "Python (learn-env)",
   "language": "python",
   "name": "learn-env"
  },
  "language_info": {
   "codemirror_mode": {
    "name": "ipython",
    "version": 3
   },
   "file_extension": ".py",
   "mimetype": "text/x-python",
   "name": "python",
   "nbconvert_exporter": "python",
   "pygments_lexer": "ipython3",
   "version": "3.8.5"
  }
 },
 "nbformat": 4,
 "nbformat_minor": 2
}
